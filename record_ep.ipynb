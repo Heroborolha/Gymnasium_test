{
 "cells": [
  {
   "cell_type": "code",
   "execution_count": 5,
   "metadata": {},
   "outputs": [
    {
     "name": "stdout",
     "output_type": "stream",
     "text": [
      "Episode time taken: deque([0.031112, 0.024374, 0.040322, 0.039745], maxlen=4)\n",
      "Episode total rewards: deque([16.0, 17.0, 28.0, 27.0], maxlen=4)\n",
      "Episode lenghts: deque([16, 17, 28, 27], maxlen=4)\n"
     ]
    }
   ],
   "source": [
    "import gymnasium as gym\n",
    "from gymnasium.wrappers import RecordEpisodeStatistics, RecordVideo\n",
    "\n",
    "num_eval_epsidoes = 4\n",
    "\n",
    "env = gym.make(\"CartPole-v1\", render_mode=\"rgb_array\")\n",
    "env = RecordVideo(env, video_folder=\"cartpole-agent\", name_prefix=\"eval\", episode_trigger=lambda x: True)\n",
    "env = RecordEpisodeStatistics(env, buffer_length=num_eval_epsidoes)\n",
    "\n",
    "for episode_num in range(num_eval_epsidoes):\n",
    "    obs, info = env.reset()\n",
    "\n",
    "    episode_over = False\n",
    "    while not episode_over:\n",
    "        action = env.action_space.sample()\n",
    "        obs, reward,terminated, trucanted, info = env.step(action)\n",
    "\n",
    "        episode_over = trucanted or terminated\n",
    "\n",
    "env.close()\n",
    "\n",
    "print(f'Episode time taken: {env.time_queue}')\n",
    "print(f'Episode total rewards: {env.return_queue}')\n",
    "print(f'Episode lenghts: {env.length_queue}')"
   ]
  }
 ],
 "metadata": {
  "kernelspec": {
   "display_name": "base",
   "language": "python",
   "name": "python3"
  },
  "language_info": {
   "codemirror_mode": {
    "name": "ipython",
    "version": 3
   },
   "file_extension": ".py",
   "mimetype": "text/x-python",
   "name": "python",
   "nbconvert_exporter": "python",
   "pygments_lexer": "ipython3",
   "version": "3.9.13"
  }
 },
 "nbformat": 4,
 "nbformat_minor": 2
}
